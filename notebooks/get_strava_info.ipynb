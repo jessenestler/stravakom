{
 "cells": [
  {
   "cell_type": "code",
   "execution_count": null,
   "metadata": {},
   "outputs": [],
   "source": [
    "import os\n",
    "import re\n",
    "import json\n",
    "import requests"
   ]
  },
  {
   "cell_type": "markdown",
   "metadata": {},
   "source": [
    "Refresh authentication in case the access token has expired"
   ]
  },
  {
   "cell_type": "code",
   "execution_count": null,
   "metadata": {},
   "outputs": [],
   "source": [
    "# Retrieve refresh tokens from tokens.json\n",
    "with open(\"../tokens.json\", \"r\") as token_file:\n",
    "    tokens = json.load(token_file)\n",
    "\n",
    "# Refresh strava's access token\n",
    "resp = requests.post(\"https://www.strava.com/oauth/token\", data=tokens)\n",
    "access_token = resp.json()['access_token']"
   ]
  },
  {
   "cell_type": "markdown",
   "metadata": {},
   "source": [
    "Retrieve the athlete's most recent activities, and reconfigure the raw data so that each activity is grouped inside a dictionary based on ID."
   ]
  },
  {
   "cell_type": "code",
   "execution_count": null,
   "metadata": {},
   "outputs": [],
   "source": [
    "# Retrieve which activities have already been downloaded and/or pipelined into postgres\n",
    "logged = []\n",
    "dirs = ['../data/', '../data/ingested/']\n",
    "for d in dirs:\n",
    "    for f in os.listdir(d):\n",
    "        result = re.search('([0-9]+)', f)\n",
    "        if result:\n",
    "            logged.append(result.group())"
   ]
  },
  {
   "cell_type": "code",
   "execution_count": null,
   "metadata": {
    "tags": [
     "outputPrepend"
    ]
   },
   "outputs": [],
   "source": [
    "# Retrieve the most recent activities\n",
    "resp = requests.get(\"https://www.strava.com/api/v3/athlete/activities\",\n",
    "                    params={\"access_token\": access_token})\n",
    "raw_activities = resp.json()\n",
    "activities = {str(a['id']):{\"properties\":a} for a in raw_activities if str(a['id']) not in logged}\n",
    "# Get rid of the \"map\" data that contains an encoded polyline, we don't need it and it messes up Postgres ingestion\n",
    "for v in activities.values():\n",
    "    del v[\"properties\"][\"map\"]"
   ]
  },
  {
   "cell_type": "markdown",
   "metadata": {},
   "source": [
    "Bundle activities with their respective time, altitude, moving, and GPS streams and export to json files"
   ]
  },
  {
   "cell_type": "code",
   "execution_count": null,
   "metadata": {},
   "outputs": [],
   "source": [
    "for act_id, contents in activities.items():\n",
    "    # Extract from Strava API\n",
    "    resp = requests.get(f\"https://www.strava.com/api/v3/activities/{act_id}/streams\",\n",
    "                        params={\"access_token\": access_token,\n",
    "                                \"keys\": \"time,latlng,altitude,moving\"})\n",
    "    raw_streams = resp.json()\n",
    "\n",
    "    # Group records from all streams\n",
    "    streams = {s[\"type\"]:s[\"data\"] for s in raw_streams}\n",
    "    try:\n",
    "        zipped = list(zip(streams[\"time\"], streams[\"moving\"], streams[\"altitude\"], streams[\"latlng\"]))\n",
    "    except KeyError: # don't save the activity if it doesn't have a GPS stream\n",
    "        continue\n",
    "    contents[\"streams\"] = zipped\n",
    "\n",
    "    # Export to json\n",
    "    with open(f\"../data/Activity_{act_id}.json\", \"w\") as act_file:\n",
    "        json.dump(contents, act_file)"
   ]
  },
  {
   "cell_type": "code",
   "execution_count": null,
   "metadata": {},
   "outputs": [],
   "source": []
  }
 ],
 "metadata": {
  "language_info": {
   "codemirror_mode": {
    "name": "ipython",
    "version": 3
   },
   "file_extension": ".py",
   "mimetype": "text/x-python",
   "name": "python",
   "nbconvert_exporter": "python",
   "pygments_lexer": "ipython3",
   "version": "3.7.3-final"
  },
  "orig_nbformat": 2,
  "kernelspec": {
   "name": "python37364bitstravakomenvcondaafe4f32efd854143b86ad868f8f7917a",
   "display_name": "Python 3.7.3 64-bit ('stravakom_env': conda)"
  }
 },
 "nbformat": 4,
 "nbformat_minor": 2
}