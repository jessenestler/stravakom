{
 "cells": [
  {
   "cell_type": "code",
   "execution_count": null,
   "metadata": {},
   "outputs": [],
   "source": [
    "import json\n",
    "import requests"
   ]
  },
  {
   "cell_type": "markdown",
   "metadata": {},
   "source": [
    "Refresh authentication in case the access token has expired"
   ]
  },
  {
   "cell_type": "code",
   "execution_count": null,
   "metadata": {},
   "outputs": [],
   "source": [
    "# Retrieve refresh tokens from tokens.json\n",
    "with open(\"../tokens.json\", \"r\") as token_file:\n",
    "    tokens = json.load(token_file)\n",
    "\n",
    "# Refresh strava's access token\n",
    "resp = requests.post(\"https://www.strava.com/oauth/token\", data=tokens)\n",
    "access_token = resp.json()['access_token']"
   ]
  },
  {
   "cell_type": "markdown",
   "metadata": {},
   "source": [
    "Retrieve the athlete's most recent activities, and reconfigure the raw data so that each activity is grouped inside a dictionary based on ID."
   ]
  },
  {
   "cell_type": "code",
   "execution_count": null,
   "metadata": {},
   "outputs": [],
   "source": [
    "# Retrieve the most recent activities\n",
    "resp = requests.get(\"https://www.strava.com/api/v3/athlete/activities\",\n",
    "                    params={\"access_token\": access_token})\n",
    "raw_activities = resp.json()\n",
    "activities = {str(a['id']):{\"properties\":a} for a in raw_activities}"
   ]
  },
  {
   "cell_type": "markdown",
   "metadata": {},
   "source": [
    "Bundle activities with their respective time, altitude, moving, and GPS streams"
   ]
  },
  {
   "cell_type": "code",
   "execution_count": null,
   "metadata": {},
   "outputs": [],
   "source": [
    "for act_id in activities:\n",
    "    resp = requests.get(f\"https://www.strava.com/api/v3/activities/{act_id}/streams\",\n",
    "                        params={\"access_token\": access_token,\n",
    "                                \"keys\": \"time,latlng,altitude,moving\"})\n",
    "    streams = resp.json()\n",
    "    for stream in streams:\n",
    "        s_type = stream[\"type\"]\n",
    "        activities[act_id][f\"{s_type}_stream\"] = stream[\"data\"]"
   ]
  },
  {
   "cell_type": "markdown",
   "metadata": {},
   "source": [
    "Save these bundled activities to json files for ingestion into PostgreSQL"
   ]
  },
  {
   "cell_type": "code",
   "execution_count": null,
   "metadata": {},
   "outputs": [],
   "source": [
    "for a_id, data in activities.items():\n",
    "    with open(f\"../data/Activity_{a_id}.json\", \"w\") as act_file:\n",
    "        json.dump(data, act_file)"
   ]
  }
 ],
 "metadata": {
  "language_info": {
   "codemirror_mode": {
    "name": "ipython",
    "version": 3
   },
   "file_extension": ".py",
   "mimetype": "text/x-python",
   "name": "python",
   "nbconvert_exporter": "python",
   "pygments_lexer": "ipython3",
   "version": "3.7.3-final"
  },
  "orig_nbformat": 2,
  "kernelspec": {
   "name": "python37364bitstravakomenvcondaafe4f32efd854143b86ad868f8f7917a",
   "display_name": "Python 3.7.3 64-bit ('stravakom_env': conda)"
  }
 },
 "nbformat": 4,
 "nbformat_minor": 2
}